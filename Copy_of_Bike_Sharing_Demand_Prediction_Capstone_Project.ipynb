{
  "nbformat": 4,
  "nbformat_minor": 0,
  "metadata": {
    "kernelspec": {
      "display_name": "Python 3",
      "language": "python",
      "name": "python3"
    },
    "language_info": {
      "codemirror_mode": {
        "name": "ipython",
        "version": 3
      },
      "file_extension": ".py",
      "mimetype": "text/x-python",
      "name": "python",
      "nbconvert_exporter": "python",
      "pygments_lexer": "ipython3",
      "version": "3.6.6"
    },
    "colab": {
      "provenance": [],
      "include_colab_link": true
    }
  },
  "cells": [
    {
      "cell_type": "markdown",
      "metadata": {
        "id": "view-in-github",
        "colab_type": "text"
      },
      "source": [
        "<a href=\"https://colab.research.google.com/github/mohammedmoin44/Bike_sharing_demand_prediction/blob/main/Copy_of_Bike_Sharing_Demand_Prediction_Capstone_Project.ipynb\" target=\"_parent\"><img src=\"https://colab.research.google.com/assets/colab-badge.svg\" alt=\"Open In Colab\"/></a>"
      ]
    },
    {
      "cell_type": "markdown",
      "metadata": {
        "id": "tOGC-qoyhJeX"
      },
      "source": [
        "# <b><u> Project Title : Seoul Bike Sharing Demand Prediction </u></b>"
      ]
    },
    {
      "cell_type": "markdown",
      "metadata": {
        "id": "Y06xIdG26kRF"
      },
      "source": [
        "## <b> Problem Description </b>\n",
        "\n",
        "### Currently Rental bikes are introduced in many urban cities for the enhancement of mobility comfort. It is important to make the rental bike available and accessible to the public at the right time as it lessens the waiting time. Eventually, providing the city with a stable supply of rental bikes becomes a major concern. The crucial part is the prediction of bike count required at each hour for the stable supply of rental bikes.\n"
      ]
    },
    {
      "cell_type": "markdown",
      "metadata": {
        "id": "AlLxAtlziMbP"
      },
      "source": [
        "## <b> Data Description </b>\n",
        "\n",
        "### <b> The dataset contains weather information (Temperature, Humidity, Windspeed, Visibility, Dewpoint, Solar radiation, Snowfall, Rainfall), the number of bikes rented per hour and date information.</b>\n",
        "\n",
        "\n",
        "### <b>Attribute Information: </b>\n",
        "\n",
        "* ### Date : year-month-day\n",
        "* ### Rented Bike count - Count of bikes rented at each hour\n",
        "* ### Hour - Hour of he day\n",
        "* ### Temperature-Temperature in Celsius\n",
        "* ### Humidity - %\n",
        "* ### Windspeed - m/s\n",
        "* ### Visibility - 10m\n",
        "* ### Dew point temperature - Celsius\n",
        "* ### Solar radiation - MJ/m2\n",
        "* ### Rainfall - mm\n",
        "* ### Snowfall - cm\n",
        "* ### Seasons - Winter, Spring, Summer, Autumn\n",
        "* ### Holiday - Holiday/No holiday\n",
        "* ### Functional Day - NoFunc(Non Functional Hours), Fun(Functional hours)"
      ]
    },
    {
      "cell_type": "code",
      "source": [
        "from google.colab import drive\n",
        "drive.mount('/content/drive')"
      ],
      "metadata": {
        "colab": {
          "base_uri": "https://localhost:8080/"
        },
        "id": "rwQz-izlJOdU",
        "outputId": "738cf399-65e6-4728-f613-2a4eef0c54be"
      },
      "execution_count": 13,
      "outputs": [
        {
          "output_type": "stream",
          "name": "stdout",
          "text": [
            "Drive already mounted at /content/drive; to attempt to forcibly remount, call drive.mount(\"/content/drive\", force_remount=True).\n"
          ]
        }
      ]
    },
    {
      "cell_type": "code",
      "source": [
        "import pandas as pd\n",
        "import numpy as np\n",
        "import matplotlib.pyplot as plt\n",
        "import seaborn as sn"
      ],
      "metadata": {
        "id": "HFD9nPWrJY29"
      },
      "execution_count": 14,
      "outputs": []
    },
    {
      "cell_type": "code",
      "source": [
        "df = pd.read_csv('/content/drive/MyDrive/Data science Project/SeoulBikeData.csv',encoding='unicode_escape')\n"
      ],
      "metadata": {
        "id": "z67MCMYVKqv1"
      },
      "execution_count": 15,
      "outputs": []
    },
    {
      "cell_type": "code",
      "source": [
        "df.head()"
      ],
      "metadata": {
        "colab": {
          "base_uri": "https://localhost:8080/",
          "height": 372
        },
        "id": "dbUNPfZjMK1B",
        "outputId": "d965f237-8ddd-4850-9a54-d2ce481a60fd"
      },
      "execution_count": 16,
      "outputs": [
        {
          "output_type": "execute_result",
          "data": {
            "text/plain": [
              "         Date  Rented Bike Count  Hour  Temperature(°C)  Humidity(%)  \\\n",
              "0  01/12/2017                254     0             -5.2           37   \n",
              "1  01/12/2017                204     1             -5.5           38   \n",
              "2  01/12/2017                173     2             -6.0           39   \n",
              "3  01/12/2017                107     3             -6.2           40   \n",
              "4  01/12/2017                 78     4             -6.0           36   \n",
              "\n",
              "   Wind speed (m/s)  Visibility (10m)  Dew point temperature(°C)  \\\n",
              "0               2.2              2000                      -17.6   \n",
              "1               0.8              2000                      -17.6   \n",
              "2               1.0              2000                      -17.7   \n",
              "3               0.9              2000                      -17.6   \n",
              "4               2.3              2000                      -18.6   \n",
              "\n",
              "   Solar Radiation (MJ/m2)  Rainfall(mm)  Snowfall (cm) Seasons     Holiday  \\\n",
              "0                      0.0           0.0            0.0  Winter  No Holiday   \n",
              "1                      0.0           0.0            0.0  Winter  No Holiday   \n",
              "2                      0.0           0.0            0.0  Winter  No Holiday   \n",
              "3                      0.0           0.0            0.0  Winter  No Holiday   \n",
              "4                      0.0           0.0            0.0  Winter  No Holiday   \n",
              "\n",
              "  Functioning Day  \n",
              "0             Yes  \n",
              "1             Yes  \n",
              "2             Yes  \n",
              "3             Yes  \n",
              "4             Yes  "
            ],
            "text/html": [
              "\n",
              "  <div id=\"df-de85fbc8-ee1e-4b70-9c24-5a1dfbef291e\">\n",
              "    <div class=\"colab-df-container\">\n",
              "      <div>\n",
              "<style scoped>\n",
              "    .dataframe tbody tr th:only-of-type {\n",
              "        vertical-align: middle;\n",
              "    }\n",
              "\n",
              "    .dataframe tbody tr th {\n",
              "        vertical-align: top;\n",
              "    }\n",
              "\n",
              "    .dataframe thead th {\n",
              "        text-align: right;\n",
              "    }\n",
              "</style>\n",
              "<table border=\"1\" class=\"dataframe\">\n",
              "  <thead>\n",
              "    <tr style=\"text-align: right;\">\n",
              "      <th></th>\n",
              "      <th>Date</th>\n",
              "      <th>Rented Bike Count</th>\n",
              "      <th>Hour</th>\n",
              "      <th>Temperature(°C)</th>\n",
              "      <th>Humidity(%)</th>\n",
              "      <th>Wind speed (m/s)</th>\n",
              "      <th>Visibility (10m)</th>\n",
              "      <th>Dew point temperature(°C)</th>\n",
              "      <th>Solar Radiation (MJ/m2)</th>\n",
              "      <th>Rainfall(mm)</th>\n",
              "      <th>Snowfall (cm)</th>\n",
              "      <th>Seasons</th>\n",
              "      <th>Holiday</th>\n",
              "      <th>Functioning Day</th>\n",
              "    </tr>\n",
              "  </thead>\n",
              "  <tbody>\n",
              "    <tr>\n",
              "      <th>0</th>\n",
              "      <td>01/12/2017</td>\n",
              "      <td>254</td>\n",
              "      <td>0</td>\n",
              "      <td>-5.2</td>\n",
              "      <td>37</td>\n",
              "      <td>2.2</td>\n",
              "      <td>2000</td>\n",
              "      <td>-17.6</td>\n",
              "      <td>0.0</td>\n",
              "      <td>0.0</td>\n",
              "      <td>0.0</td>\n",
              "      <td>Winter</td>\n",
              "      <td>No Holiday</td>\n",
              "      <td>Yes</td>\n",
              "    </tr>\n",
              "    <tr>\n",
              "      <th>1</th>\n",
              "      <td>01/12/2017</td>\n",
              "      <td>204</td>\n",
              "      <td>1</td>\n",
              "      <td>-5.5</td>\n",
              "      <td>38</td>\n",
              "      <td>0.8</td>\n",
              "      <td>2000</td>\n",
              "      <td>-17.6</td>\n",
              "      <td>0.0</td>\n",
              "      <td>0.0</td>\n",
              "      <td>0.0</td>\n",
              "      <td>Winter</td>\n",
              "      <td>No Holiday</td>\n",
              "      <td>Yes</td>\n",
              "    </tr>\n",
              "    <tr>\n",
              "      <th>2</th>\n",
              "      <td>01/12/2017</td>\n",
              "      <td>173</td>\n",
              "      <td>2</td>\n",
              "      <td>-6.0</td>\n",
              "      <td>39</td>\n",
              "      <td>1.0</td>\n",
              "      <td>2000</td>\n",
              "      <td>-17.7</td>\n",
              "      <td>0.0</td>\n",
              "      <td>0.0</td>\n",
              "      <td>0.0</td>\n",
              "      <td>Winter</td>\n",
              "      <td>No Holiday</td>\n",
              "      <td>Yes</td>\n",
              "    </tr>\n",
              "    <tr>\n",
              "      <th>3</th>\n",
              "      <td>01/12/2017</td>\n",
              "      <td>107</td>\n",
              "      <td>3</td>\n",
              "      <td>-6.2</td>\n",
              "      <td>40</td>\n",
              "      <td>0.9</td>\n",
              "      <td>2000</td>\n",
              "      <td>-17.6</td>\n",
              "      <td>0.0</td>\n",
              "      <td>0.0</td>\n",
              "      <td>0.0</td>\n",
              "      <td>Winter</td>\n",
              "      <td>No Holiday</td>\n",
              "      <td>Yes</td>\n",
              "    </tr>\n",
              "    <tr>\n",
              "      <th>4</th>\n",
              "      <td>01/12/2017</td>\n",
              "      <td>78</td>\n",
              "      <td>4</td>\n",
              "      <td>-6.0</td>\n",
              "      <td>36</td>\n",
              "      <td>2.3</td>\n",
              "      <td>2000</td>\n",
              "      <td>-18.6</td>\n",
              "      <td>0.0</td>\n",
              "      <td>0.0</td>\n",
              "      <td>0.0</td>\n",
              "      <td>Winter</td>\n",
              "      <td>No Holiday</td>\n",
              "      <td>Yes</td>\n",
              "    </tr>\n",
              "  </tbody>\n",
              "</table>\n",
              "</div>\n",
              "      <button class=\"colab-df-convert\" onclick=\"convertToInteractive('df-de85fbc8-ee1e-4b70-9c24-5a1dfbef291e')\"\n",
              "              title=\"Convert this dataframe to an interactive table.\"\n",
              "              style=\"display:none;\">\n",
              "        \n",
              "  <svg xmlns=\"http://www.w3.org/2000/svg\" height=\"24px\"viewBox=\"0 0 24 24\"\n",
              "       width=\"24px\">\n",
              "    <path d=\"M0 0h24v24H0V0z\" fill=\"none\"/>\n",
              "    <path d=\"M18.56 5.44l.94 2.06.94-2.06 2.06-.94-2.06-.94-.94-2.06-.94 2.06-2.06.94zm-11 1L8.5 8.5l.94-2.06 2.06-.94-2.06-.94L8.5 2.5l-.94 2.06-2.06.94zm10 10l.94 2.06.94-2.06 2.06-.94-2.06-.94-.94-2.06-.94 2.06-2.06.94z\"/><path d=\"M17.41 7.96l-1.37-1.37c-.4-.4-.92-.59-1.43-.59-.52 0-1.04.2-1.43.59L10.3 9.45l-7.72 7.72c-.78.78-.78 2.05 0 2.83L4 21.41c.39.39.9.59 1.41.59.51 0 1.02-.2 1.41-.59l7.78-7.78 2.81-2.81c.8-.78.8-2.07 0-2.86zM5.41 20L4 18.59l7.72-7.72 1.47 1.35L5.41 20z\"/>\n",
              "  </svg>\n",
              "      </button>\n",
              "      \n",
              "  <style>\n",
              "    .colab-df-container {\n",
              "      display:flex;\n",
              "      flex-wrap:wrap;\n",
              "      gap: 12px;\n",
              "    }\n",
              "\n",
              "    .colab-df-convert {\n",
              "      background-color: #E8F0FE;\n",
              "      border: none;\n",
              "      border-radius: 50%;\n",
              "      cursor: pointer;\n",
              "      display: none;\n",
              "      fill: #1967D2;\n",
              "      height: 32px;\n",
              "      padding: 0 0 0 0;\n",
              "      width: 32px;\n",
              "    }\n",
              "\n",
              "    .colab-df-convert:hover {\n",
              "      background-color: #E2EBFA;\n",
              "      box-shadow: 0px 1px 2px rgba(60, 64, 67, 0.3), 0px 1px 3px 1px rgba(60, 64, 67, 0.15);\n",
              "      fill: #174EA6;\n",
              "    }\n",
              "\n",
              "    [theme=dark] .colab-df-convert {\n",
              "      background-color: #3B4455;\n",
              "      fill: #D2E3FC;\n",
              "    }\n",
              "\n",
              "    [theme=dark] .colab-df-convert:hover {\n",
              "      background-color: #434B5C;\n",
              "      box-shadow: 0px 1px 3px 1px rgba(0, 0, 0, 0.15);\n",
              "      filter: drop-shadow(0px 1px 2px rgba(0, 0, 0, 0.3));\n",
              "      fill: #FFFFFF;\n",
              "    }\n",
              "  </style>\n",
              "\n",
              "      <script>\n",
              "        const buttonEl =\n",
              "          document.querySelector('#df-de85fbc8-ee1e-4b70-9c24-5a1dfbef291e button.colab-df-convert');\n",
              "        buttonEl.style.display =\n",
              "          google.colab.kernel.accessAllowed ? 'block' : 'none';\n",
              "\n",
              "        async function convertToInteractive(key) {\n",
              "          const element = document.querySelector('#df-de85fbc8-ee1e-4b70-9c24-5a1dfbef291e');\n",
              "          const dataTable =\n",
              "            await google.colab.kernel.invokeFunction('convertToInteractive',\n",
              "                                                     [key], {});\n",
              "          if (!dataTable) return;\n",
              "\n",
              "          const docLinkHtml = 'Like what you see? Visit the ' +\n",
              "            '<a target=\"_blank\" href=https://colab.research.google.com/notebooks/data_table.ipynb>data table notebook</a>'\n",
              "            + ' to learn more about interactive tables.';\n",
              "          element.innerHTML = '';\n",
              "          dataTable['output_type'] = 'display_data';\n",
              "          await google.colab.output.renderOutput(dataTable, element);\n",
              "          const docLink = document.createElement('div');\n",
              "          docLink.innerHTML = docLinkHtml;\n",
              "          element.appendChild(docLink);\n",
              "        }\n",
              "      </script>\n",
              "    </div>\n",
              "  </div>\n",
              "  "
            ]
          },
          "metadata": {},
          "execution_count": 16
        }
      ]
    },
    {
      "cell_type": "code",
      "source": [
        "df.describe()"
      ],
      "metadata": {
        "colab": {
          "base_uri": "https://localhost:8080/",
          "height": 362
        },
        "id": "dTAT1cz4MJ8k",
        "outputId": "660cd1ad-0c9c-4abd-979b-7696c0805d81"
      },
      "execution_count": 17,
      "outputs": [
        {
          "output_type": "execute_result",
          "data": {
            "text/plain": [
              "       Rented Bike Count         Hour  Temperature(°C)  Humidity(%)  \\\n",
              "count        8760.000000  8760.000000      8760.000000  8760.000000   \n",
              "mean          704.602055    11.500000        12.882922    58.226256   \n",
              "std           644.997468     6.922582        11.944825    20.362413   \n",
              "min             0.000000     0.000000       -17.800000     0.000000   \n",
              "25%           191.000000     5.750000         3.500000    42.000000   \n",
              "50%           504.500000    11.500000        13.700000    57.000000   \n",
              "75%          1065.250000    17.250000        22.500000    74.000000   \n",
              "max          3556.000000    23.000000        39.400000    98.000000   \n",
              "\n",
              "       Wind speed (m/s)  Visibility (10m)  Dew point temperature(°C)  \\\n",
              "count       8760.000000       8760.000000                8760.000000   \n",
              "mean           1.724909       1436.825799                   4.073813   \n",
              "std            1.036300        608.298712                  13.060369   \n",
              "min            0.000000         27.000000                 -30.600000   \n",
              "25%            0.900000        940.000000                  -4.700000   \n",
              "50%            1.500000       1698.000000                   5.100000   \n",
              "75%            2.300000       2000.000000                  14.800000   \n",
              "max            7.400000       2000.000000                  27.200000   \n",
              "\n",
              "       Solar Radiation (MJ/m2)  Rainfall(mm)  Snowfall (cm)  \n",
              "count              8760.000000   8760.000000    8760.000000  \n",
              "mean                  0.569111      0.148687       0.075068  \n",
              "std                   0.868746      1.128193       0.436746  \n",
              "min                   0.000000      0.000000       0.000000  \n",
              "25%                   0.000000      0.000000       0.000000  \n",
              "50%                   0.010000      0.000000       0.000000  \n",
              "75%                   0.930000      0.000000       0.000000  \n",
              "max                   3.520000     35.000000       8.800000  "
            ],
            "text/html": [
              "\n",
              "  <div id=\"df-decfeb57-03a7-4670-8130-4d4011ca53b4\">\n",
              "    <div class=\"colab-df-container\">\n",
              "      <div>\n",
              "<style scoped>\n",
              "    .dataframe tbody tr th:only-of-type {\n",
              "        vertical-align: middle;\n",
              "    }\n",
              "\n",
              "    .dataframe tbody tr th {\n",
              "        vertical-align: top;\n",
              "    }\n",
              "\n",
              "    .dataframe thead th {\n",
              "        text-align: right;\n",
              "    }\n",
              "</style>\n",
              "<table border=\"1\" class=\"dataframe\">\n",
              "  <thead>\n",
              "    <tr style=\"text-align: right;\">\n",
              "      <th></th>\n",
              "      <th>Rented Bike Count</th>\n",
              "      <th>Hour</th>\n",
              "      <th>Temperature(°C)</th>\n",
              "      <th>Humidity(%)</th>\n",
              "      <th>Wind speed (m/s)</th>\n",
              "      <th>Visibility (10m)</th>\n",
              "      <th>Dew point temperature(°C)</th>\n",
              "      <th>Solar Radiation (MJ/m2)</th>\n",
              "      <th>Rainfall(mm)</th>\n",
              "      <th>Snowfall (cm)</th>\n",
              "    </tr>\n",
              "  </thead>\n",
              "  <tbody>\n",
              "    <tr>\n",
              "      <th>count</th>\n",
              "      <td>8760.000000</td>\n",
              "      <td>8760.000000</td>\n",
              "      <td>8760.000000</td>\n",
              "      <td>8760.000000</td>\n",
              "      <td>8760.000000</td>\n",
              "      <td>8760.000000</td>\n",
              "      <td>8760.000000</td>\n",
              "      <td>8760.000000</td>\n",
              "      <td>8760.000000</td>\n",
              "      <td>8760.000000</td>\n",
              "    </tr>\n",
              "    <tr>\n",
              "      <th>mean</th>\n",
              "      <td>704.602055</td>\n",
              "      <td>11.500000</td>\n",
              "      <td>12.882922</td>\n",
              "      <td>58.226256</td>\n",
              "      <td>1.724909</td>\n",
              "      <td>1436.825799</td>\n",
              "      <td>4.073813</td>\n",
              "      <td>0.569111</td>\n",
              "      <td>0.148687</td>\n",
              "      <td>0.075068</td>\n",
              "    </tr>\n",
              "    <tr>\n",
              "      <th>std</th>\n",
              "      <td>644.997468</td>\n",
              "      <td>6.922582</td>\n",
              "      <td>11.944825</td>\n",
              "      <td>20.362413</td>\n",
              "      <td>1.036300</td>\n",
              "      <td>608.298712</td>\n",
              "      <td>13.060369</td>\n",
              "      <td>0.868746</td>\n",
              "      <td>1.128193</td>\n",
              "      <td>0.436746</td>\n",
              "    </tr>\n",
              "    <tr>\n",
              "      <th>min</th>\n",
              "      <td>0.000000</td>\n",
              "      <td>0.000000</td>\n",
              "      <td>-17.800000</td>\n",
              "      <td>0.000000</td>\n",
              "      <td>0.000000</td>\n",
              "      <td>27.000000</td>\n",
              "      <td>-30.600000</td>\n",
              "      <td>0.000000</td>\n",
              "      <td>0.000000</td>\n",
              "      <td>0.000000</td>\n",
              "    </tr>\n",
              "    <tr>\n",
              "      <th>25%</th>\n",
              "      <td>191.000000</td>\n",
              "      <td>5.750000</td>\n",
              "      <td>3.500000</td>\n",
              "      <td>42.000000</td>\n",
              "      <td>0.900000</td>\n",
              "      <td>940.000000</td>\n",
              "      <td>-4.700000</td>\n",
              "      <td>0.000000</td>\n",
              "      <td>0.000000</td>\n",
              "      <td>0.000000</td>\n",
              "    </tr>\n",
              "    <tr>\n",
              "      <th>50%</th>\n",
              "      <td>504.500000</td>\n",
              "      <td>11.500000</td>\n",
              "      <td>13.700000</td>\n",
              "      <td>57.000000</td>\n",
              "      <td>1.500000</td>\n",
              "      <td>1698.000000</td>\n",
              "      <td>5.100000</td>\n",
              "      <td>0.010000</td>\n",
              "      <td>0.000000</td>\n",
              "      <td>0.000000</td>\n",
              "    </tr>\n",
              "    <tr>\n",
              "      <th>75%</th>\n",
              "      <td>1065.250000</td>\n",
              "      <td>17.250000</td>\n",
              "      <td>22.500000</td>\n",
              "      <td>74.000000</td>\n",
              "      <td>2.300000</td>\n",
              "      <td>2000.000000</td>\n",
              "      <td>14.800000</td>\n",
              "      <td>0.930000</td>\n",
              "      <td>0.000000</td>\n",
              "      <td>0.000000</td>\n",
              "    </tr>\n",
              "    <tr>\n",
              "      <th>max</th>\n",
              "      <td>3556.000000</td>\n",
              "      <td>23.000000</td>\n",
              "      <td>39.400000</td>\n",
              "      <td>98.000000</td>\n",
              "      <td>7.400000</td>\n",
              "      <td>2000.000000</td>\n",
              "      <td>27.200000</td>\n",
              "      <td>3.520000</td>\n",
              "      <td>35.000000</td>\n",
              "      <td>8.800000</td>\n",
              "    </tr>\n",
              "  </tbody>\n",
              "</table>\n",
              "</div>\n",
              "      <button class=\"colab-df-convert\" onclick=\"convertToInteractive('df-decfeb57-03a7-4670-8130-4d4011ca53b4')\"\n",
              "              title=\"Convert this dataframe to an interactive table.\"\n",
              "              style=\"display:none;\">\n",
              "        \n",
              "  <svg xmlns=\"http://www.w3.org/2000/svg\" height=\"24px\"viewBox=\"0 0 24 24\"\n",
              "       width=\"24px\">\n",
              "    <path d=\"M0 0h24v24H0V0z\" fill=\"none\"/>\n",
              "    <path d=\"M18.56 5.44l.94 2.06.94-2.06 2.06-.94-2.06-.94-.94-2.06-.94 2.06-2.06.94zm-11 1L8.5 8.5l.94-2.06 2.06-.94-2.06-.94L8.5 2.5l-.94 2.06-2.06.94zm10 10l.94 2.06.94-2.06 2.06-.94-2.06-.94-.94-2.06-.94 2.06-2.06.94z\"/><path d=\"M17.41 7.96l-1.37-1.37c-.4-.4-.92-.59-1.43-.59-.52 0-1.04.2-1.43.59L10.3 9.45l-7.72 7.72c-.78.78-.78 2.05 0 2.83L4 21.41c.39.39.9.59 1.41.59.51 0 1.02-.2 1.41-.59l7.78-7.78 2.81-2.81c.8-.78.8-2.07 0-2.86zM5.41 20L4 18.59l7.72-7.72 1.47 1.35L5.41 20z\"/>\n",
              "  </svg>\n",
              "      </button>\n",
              "      \n",
              "  <style>\n",
              "    .colab-df-container {\n",
              "      display:flex;\n",
              "      flex-wrap:wrap;\n",
              "      gap: 12px;\n",
              "    }\n",
              "\n",
              "    .colab-df-convert {\n",
              "      background-color: #E8F0FE;\n",
              "      border: none;\n",
              "      border-radius: 50%;\n",
              "      cursor: pointer;\n",
              "      display: none;\n",
              "      fill: #1967D2;\n",
              "      height: 32px;\n",
              "      padding: 0 0 0 0;\n",
              "      width: 32px;\n",
              "    }\n",
              "\n",
              "    .colab-df-convert:hover {\n",
              "      background-color: #E2EBFA;\n",
              "      box-shadow: 0px 1px 2px rgba(60, 64, 67, 0.3), 0px 1px 3px 1px rgba(60, 64, 67, 0.15);\n",
              "      fill: #174EA6;\n",
              "    }\n",
              "\n",
              "    [theme=dark] .colab-df-convert {\n",
              "      background-color: #3B4455;\n",
              "      fill: #D2E3FC;\n",
              "    }\n",
              "\n",
              "    [theme=dark] .colab-df-convert:hover {\n",
              "      background-color: #434B5C;\n",
              "      box-shadow: 0px 1px 3px 1px rgba(0, 0, 0, 0.15);\n",
              "      filter: drop-shadow(0px 1px 2px rgba(0, 0, 0, 0.3));\n",
              "      fill: #FFFFFF;\n",
              "    }\n",
              "  </style>\n",
              "\n",
              "      <script>\n",
              "        const buttonEl =\n",
              "          document.querySelector('#df-decfeb57-03a7-4670-8130-4d4011ca53b4 button.colab-df-convert');\n",
              "        buttonEl.style.display =\n",
              "          google.colab.kernel.accessAllowed ? 'block' : 'none';\n",
              "\n",
              "        async function convertToInteractive(key) {\n",
              "          const element = document.querySelector('#df-decfeb57-03a7-4670-8130-4d4011ca53b4');\n",
              "          const dataTable =\n",
              "            await google.colab.kernel.invokeFunction('convertToInteractive',\n",
              "                                                     [key], {});\n",
              "          if (!dataTable) return;\n",
              "\n",
              "          const docLinkHtml = 'Like what you see? Visit the ' +\n",
              "            '<a target=\"_blank\" href=https://colab.research.google.com/notebooks/data_table.ipynb>data table notebook</a>'\n",
              "            + ' to learn more about interactive tables.';\n",
              "          element.innerHTML = '';\n",
              "          dataTable['output_type'] = 'display_data';\n",
              "          await google.colab.output.renderOutput(dataTable, element);\n",
              "          const docLink = document.createElement('div');\n",
              "          docLink.innerHTML = docLinkHtml;\n",
              "          element.appendChild(docLink);\n",
              "        }\n",
              "      </script>\n",
              "    </div>\n",
              "  </div>\n",
              "  "
            ]
          },
          "metadata": {},
          "execution_count": 17
        }
      ]
    },
    {
      "cell_type": "code",
      "source": [
        "df.isna().sum()"
      ],
      "metadata": {
        "colab": {
          "base_uri": "https://localhost:8080/"
        },
        "id": "ixlcKe7rUJWM",
        "outputId": "99ab5721-9bfb-4fcf-873f-69c8885f6a73"
      },
      "execution_count": 28,
      "outputs": [
        {
          "output_type": "execute_result",
          "data": {
            "text/plain": [
              "Date                         0\n",
              "Rented Bike Count            0\n",
              "Hour                         0\n",
              "Temperature(°C)              0\n",
              "Humidity(%)                  0\n",
              "Wind speed (m/s)             0\n",
              "Visibility (10m)             0\n",
              "Dew point temperature(°C)    0\n",
              "Solar Radiation (MJ/m2)      0\n",
              "Rainfall(mm)                 0\n",
              "Snowfall (cm)                0\n",
              "Seasons                      0\n",
              "Holiday                      0\n",
              "Functioning Day              0\n",
              "dtype: int64"
            ]
          },
          "metadata": {},
          "execution_count": 28
        }
      ]
    },
    {
      "cell_type": "markdown",
      "source": [
        "![image.png](data:image/png;base64,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)"
      ],
      "metadata": {
        "id": "gR7g8JNQUjMz"
      }
    },
    {
      "cell_type": "code",
      "source": [
        "df.dtypes"
      ],
      "metadata": {
        "colab": {
          "base_uri": "https://localhost:8080/"
        },
        "id": "YXdg6dY5W5er",
        "outputId": "0184be15-c860-4553-8b15-9afcc1162e8b"
      },
      "execution_count": 44,
      "outputs": [
        {
          "output_type": "execute_result",
          "data": {
            "text/plain": [
              "Date                          object\n",
              "Rented Bike Count              int64\n",
              "Hour                           int64\n",
              "Temperature(°C)              float64\n",
              "Humidity(%)                    int64\n",
              "Wind speed (m/s)             float64\n",
              "Visibility (10m)               int64\n",
              "Dew point temperature(°C)    float64\n",
              "Solar Radiation (MJ/m2)      float64\n",
              "Rainfall(mm)                 float64\n",
              "Snowfall (cm)                float64\n",
              "Seasons                       object\n",
              "Holiday                       object\n",
              "Functioning Day               object\n",
              "dtype: object"
            ]
          },
          "metadata": {},
          "execution_count": 44
        }
      ]
    },
    {
      "cell_type": "code",
      "source": [
        "df.groupby('Date')['Rented Bike Count'].sum().plot()\n",
        "fig_size=(8,1)"
      ],
      "metadata": {
        "colab": {
          "base_uri": "https://localhost:8080/",
          "height": 279
        },
        "id": "ljHcS55fUS2i",
        "outputId": "6bae23dc-843f-4d6a-8b44-a169e94d7b6f"
      },
      "execution_count": 58,
      "outputs": [
        {
          "output_type": "display_data",
          "data": {
            "text/plain": [
              "<Figure size 432x288 with 1 Axes>"
            ],
            "image/png": "[encoded data removed]"
          },
          "metadata": {
            "needs_background": "light"
          }
        }
      ]
    }
  ]
}